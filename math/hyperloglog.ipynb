{
 "cells": [
  {
   "cell_type": "code",
   "execution_count": 1,
   "id": "0a9dc0f3-1d2f-41cb-be43-0e318b99cb62",
   "metadata": {},
   "outputs": [],
   "source": [
    "import numpy as np"
   ]
  },
  {
   "cell_type": "code",
   "execution_count": 23,
   "id": "1ae792e9-97a9-4adf-8b2f-07f0cd7951b0",
   "metadata": {},
   "outputs": [],
   "source": [
    "samples = np.random.randint(low=1, high=100, size=100_000)"
   ]
  },
  {
   "cell_type": "code",
   "execution_count": 24,
   "id": "3ca7fda5-5519-43e8-aac2-6878ebf5774c",
   "metadata": {},
   "outputs": [
    {
     "data": {
      "text/plain": [
       "array([74, 38, 17, ..., 14, 65, 72])"
      ]
     },
     "execution_count": 24,
     "metadata": {},
     "output_type": "execute_result"
    }
   ],
   "source": [
    "samples"
   ]
  },
  {
   "cell_type": "code",
   "execution_count": 28,
   "id": "4e94fb98-4574-45d1-99ee-20e07ee9d9cc",
   "metadata": {},
   "outputs": [],
   "source": [
    "def trailing(s):\n",
    "    return len(s) - len(s.rstrip('0'))"
   ]
  },
  {
   "cell_type": "code",
   "execution_count": 29,
   "id": "5f88f772-ec9c-452c-b6f5-0dd0b0d9a3b5",
   "metadata": {},
   "outputs": [],
   "source": [
    "zeros = 0\n",
    "\n",
    "for sample in samples:\n",
    "    zeros = max(zeros, trailing(bin(sample)))"
   ]
  },
  {
   "cell_type": "code",
   "execution_count": 30,
   "id": "f8acff14-ff48-44af-ad66-7175f24cc5c6",
   "metadata": {},
   "outputs": [
    {
     "data": {
      "text/plain": [
       "6"
      ]
     },
     "execution_count": 30,
     "metadata": {},
     "output_type": "execute_result"
    }
   ],
   "source": [
    "zeros"
   ]
  },
  {
   "cell_type": "code",
   "execution_count": null,
   "id": "3d999d73-b2b7-485f-9159-de51fa17e9df",
   "metadata": {},
   "outputs": [],
   "source": []
  }
 ],
 "metadata": {
  "kernelspec": {
   "display_name": "Python 3 (ipykernel)",
   "language": "python",
   "name": "python3"
  },
  "language_info": {
   "codemirror_mode": {
    "name": "ipython",
    "version": 3
   },
   "file_extension": ".py",
   "mimetype": "text/x-python",
   "name": "python",
   "nbconvert_exporter": "python",
   "pygments_lexer": "ipython3",
   "version": "3.9.11"
  }
 },
 "nbformat": 4,
 "nbformat_minor": 5
}

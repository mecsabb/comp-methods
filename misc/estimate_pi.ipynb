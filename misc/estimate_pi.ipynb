{
 "cells": [
  {
   "cell_type": "code",
   "execution_count": 212,
   "id": "df9d18da-cbbc-4177-98ad-cc4c60eb58dd",
   "metadata": {},
   "outputs": [],
   "source": [
    "import numpy as np\n",
    "import math\n",
    "import matplotlib.pyplot as plt"
   ]
  },
  {
   "cell_type": "code",
   "execution_count": 207,
   "id": "c3b4de3a-6689-44b5-bc3d-36c824406a73",
   "metadata": {},
   "outputs": [],
   "source": [
    "def estimatePi(epochs=10_000_000):\n",
    "    \n",
    "    '''\n",
    "    Estimates pi using a monte carlo simulation.\n",
    "    '''\n",
    "    \n",
    "    rng = np.random.default_rng()\n",
    "    circle = 0\n",
    "    yax = []\n",
    "    \n",
    "    for step in range(1, epochs):\n",
    "        \n",
    "        if(step % 100 == 0):\n",
    "            yax.append(rolling)\n",
    "        \n",
    "        x, y = rng.random(), rng.random()\n",
    "        dist = math.sqrt((x**2)+(y**2))\n",
    "        \n",
    "        if(dist <= 1):\n",
    "            circle += 1\n",
    "        \n",
    "        rolling = 4*(circle/step)\n",
    "    \n",
    "    return (rolling, yax)\n"
   ]
  },
  {
   "cell_type": "code",
   "execution_count": 208,
   "id": "d96d9c7f-3a2b-407b-b263-4835974a43d6",
   "metadata": {},
   "outputs": [],
   "source": [
    "out, ax = estimatePi()"
   ]
  },
  {
   "cell_type": "code",
   "execution_count": 214,
   "id": "15a313ae-e3cd-4892-98e0-6621b56f856c",
   "metadata": {
    "tags": []
   },
   "outputs": [
    {
     "data": {
      "image/png": "[encoded data removed]",
      "text/plain": [
       "<Figure size 432x288 with 1 Axes>"
      ]
     },
     "metadata": {
      "needs_background": "light"
     },
     "output_type": "display_data"
    }
   ],
   "source": [
    "plot = plt.plot(ax)"
   ]
  },
  {
   "cell_type": "code",
   "execution_count": null,
   "id": "c6c82795-b82d-47f8-931f-3114ff795f20",
   "metadata": {},
   "outputs": [],
   "source": []
  }
 ],
 "metadata": {
  "kernelspec": {
   "display_name": "Python 3 (ipykernel)",
   "language": "python",
   "name": "python3"
  },
  "language_info": {
   "codemirror_mode": {
    "name": "ipython",
    "version": 3
   },
   "file_extension": ".py",
   "mimetype": "text/x-python",
   "name": "python",
   "nbconvert_exporter": "python",
   "pygments_lexer": "ipython3",
   "version": "3.9.11"
  }
 },
 "nbformat": 4,
 "nbformat_minor": 5
}

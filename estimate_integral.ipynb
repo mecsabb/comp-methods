{
 "cells": [
  {
   "cell_type": "code",
   "execution_count": 68,
   "id": "647db681-6777-418e-ad89-802045372fc5",
   "metadata": {},
   "outputs": [],
   "source": [
    "import sympy as sym\n",
    "import math\n",
    "import numpy as np"
   ]
  },
  {
   "cell_type": "code",
   "execution_count": null,
   "id": "4d2cf506-9971-4cf4-96b6-b73b2afb91cb",
   "metadata": {},
   "outputs": [],
   "source": [
    "# TODOs / Issues\n",
    "'''\n",
    "\n",
    "GSS only works for unimodal (single extreme value) functions \n",
    "\n",
    "'''"
   ]
  },
  {
   "cell_type": "code",
   "execution_count": 78,
   "id": "54787b97-f3ae-4eb4-9f4f-57f4a5df989d",
   "metadata": {},
   "outputs": [],
   "source": [
    "# Helpers"
   ]
  },
  {
   "cell_type": "code",
   "execution_count": 147,
   "id": "5392cddf-b827-4de8-a52c-ca3770cc9e95",
   "metadata": {},
   "outputs": [],
   "source": [
    "gr = (math.sqrt(5) + 1) / 2 # Golden Ratio (for gss)\n",
    "invphi = (math.sqrt(5) - 1) / 2  # 1 / phi\n",
    "invphi2 = (3 - math.sqrt(5)) / 2  # 1 / phi^2"
   ]
  },
  {
   "cell_type": "code",
   "execution_count": 144,
   "id": "ff7bed87-6fd1-4034-a441-6c15feacb99a",
   "metadata": {},
   "outputs": [],
   "source": [
    "def gss_min(f, a, b, tol=1e-5):\n",
    "    '''\n",
    "    Golden-section search to find the minimum of f on [a,b]\n",
    "    f: a strictly unimodal function on [a,b]\n",
    "    '''\n",
    "    c = b - (b - a) / gr\n",
    "    d = a + (b - a) / gr\n",
    "    while abs(b - a) > tol:\n",
    "        if f(c) < f(d):  # to compute min\n",
    "            b = d\n",
    "        else:\n",
    "            a = c\n",
    "\n",
    "        # We recompute both c and d here to avoid loss of precision which may lead to incorrect results or infinite loop\n",
    "        c = b - (b - a) / gr\n",
    "        d = a + (b - a) / gr\n",
    "\n",
    "    return (b + a) / 2"
   ]
  },
  {
   "cell_type": "code",
   "execution_count": 201,
   "id": "3461c8c9-0e40-497b-b80c-5cb22369029e",
   "metadata": {},
   "outputs": [],
   "source": [
    "def gss_max(f, a, b, tol=1e-5):\n",
    "    '''\n",
    "    Golden-section search to find the maximum of f on [a,b]\n",
    "    f: a strictly unimodal function on [a,b]\n",
    "    '''\n",
    "    c = b - (b - a) / gr\n",
    "    d = a + (b - a) / gr\n",
    "    while abs(b - a) > tol:\n",
    "        if f(c) > f(d):  #to compute max\n",
    "            b = d\n",
    "        else:\n",
    "            a = c\n",
    "\n",
    "        # We recompute both c and d here to avoid loss of precision which may lead to incorrect results or infinite loop\n",
    "        c = b - (b - a) / gr\n",
    "        d = a + (b - a) / gr\n",
    "\n",
    "    return (b + a) / 2"
   ]
  },
  {
   "cell_type": "code",
   "execution_count": 1,
   "id": "852296b7-95be-4ee4-b291-1b9dfeccebc6",
   "metadata": {},
   "outputs": [],
   "source": [
    "# Reimann Sums"
   ]
  },
  {
   "cell_type": "code",
   "execution_count": 4,
   "id": "18580bfa-9023-46ba-aff8-bcc5e4cd4f9e",
   "metadata": {},
   "outputs": [],
   "source": [
    "# Basic Monte Carlo\n",
    "# Prob of point = Area Under Curve / Area of Rectangle"
   ]
  },
  {
   "cell_type": "code",
   "execution_count": 167,
   "id": "e9ad8bb8-bd15-4719-b654-43f9198fb820",
   "metadata": {},
   "outputs": [],
   "source": [
    "def f(x):\n",
    "    return x**2"
   ]
  },
  {
   "cell_type": "code",
   "execution_count": 198,
   "id": "a447c85d-9d13-472b-8d24-92c68f2aa29e",
   "metadata": {},
   "outputs": [],
   "source": [
    "def definite(f, a, b, epochs=1_000):\n",
    "    \n",
    "    '''\n",
    "    Estimates a 2D definite integral using a monte carlo simulation.\n",
    "    '''\n",
    "    \n",
    "    if(b < a):\n",
    "        print(\"Invalid Argument: b < a\\n\")\n",
    "\n",
    "    inside = 0\n",
    "    \n",
    "    xmin = gss_min(f, a, b)\n",
    "    xmax = gss_max(f, a, b)\n",
    "    fmin = f(xmin)\n",
    "    fmax = f(xmax)\n",
    "    \n",
    "    l = (fmax - fmin)\n",
    "    w = (b - a)\n",
    "    \n",
    "    for step in range(1, epochs):\n",
    "        \n",
    "        x = np.random.uniform(a, b)\n",
    "        y = np.random.uniform(fmin, fmax)\n",
    "        \n",
    "        if(y < f(x)):\n",
    "            inside += 1\n",
    "        \n",
    "        rolling = l*w*(inside/step)\n",
    "    \n",
    "    return rolling\n"
   ]
  },
  {
   "cell_type": "code",
   "execution_count": 199,
   "id": "8fa4c387-1b0a-4297-bc4a-09da55cf6c56",
   "metadata": {},
   "outputs": [
    {
     "data": {
      "text/plain": [
       "0.34434102318595255"
      ]
     },
     "execution_count": 199,
     "metadata": {},
     "output_type": "execute_result"
    }
   ],
   "source": [
    "definite(f, 0, 1)"
   ]
  },
  {
   "cell_type": "code",
   "execution_count": 3,
   "id": "f72bda0e-67d7-4cf4-b7e6-3d1313679523",
   "metadata": {},
   "outputs": [],
   "source": [
    "# Recursive Stratified Sampling"
   ]
  },
  {
   "cell_type": "code",
   "execution_count": 5,
   "id": "be043566-7f37-4970-bbf2-9e471b33b4af",
   "metadata": {},
   "outputs": [],
   "source": [
    "# Importance Sampling"
   ]
  },
  {
   "cell_type": "code",
   "execution_count": null,
   "id": "360a9e62-5546-4969-aad5-1d2e76ac4cd0",
   "metadata": {},
   "outputs": [],
   "source": []
  }
 ],
 "metadata": {
  "kernelspec": {
   "display_name": "Python 3 (ipykernel)",
   "language": "python",
   "name": "python3"
  },
  "language_info": {
   "codemirror_mode": {
    "name": "ipython",
    "version": 3
   },
   "file_extension": ".py",
   "mimetype": "text/x-python",
   "name": "python",
   "nbconvert_exporter": "python",
   "pygments_lexer": "ipython3",
   "version": "3.9.11"
  }
 },
 "nbformat": 4,
 "nbformat_minor": 5
}
